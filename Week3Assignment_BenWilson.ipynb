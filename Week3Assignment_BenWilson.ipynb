{
 "cells": [
  {
   "cell_type": "markdown",
   "metadata": {},
   "source": [
    "# Week 3 Assignment - Ben Wilson"
   ]
  },
  {
   "cell_type": "markdown",
   "metadata": {},
   "source": [
    "### 1. Data anonymization is important because health data has an almost unthinkable potential for misuse by cyber criminals and discrimination on part of insurance companies.\n",
    "### 2. The Havasupai tribe case concerned consent. Researchers from ASU gained consent from the tribe to test high rates of Type II Diabetes using blood samples, but then went on to use the samples for other research they did not have consent for. This ended up with the tribe suing and gaining a large settlement for the violation.\n",
    "### 3. The largest health data breach happened to Anthem Inc. 78.8 million individuals were affected, but no medical information was compromised. \n",
    "### 4. The pulse oximeter controversy was about bias in healthcare. The devices were three times as likely to miss hypoxemia in Black patients compared to White patients due to the calibration being tested on those with lighter skin.\n",
    "### 5. An IRB makes sure that ethical considerations are being considered in health research and conduct.\n",
    "### 6. Spreadsheets are generally used for smaller spaces while databases are used for a lot more samples.\n",
    "### 7. A conflict of interest in public health research could include financial conflicts, personal conflicts, and academic conflicts. They are anything that could compromise the purity of an experiment through a conscious outside influence.\n",
    "### 8. Informed consent is informing a potential subject of exactly what research would entail, so they would come to their own decision given the amount of information provided.\n",
    "### 9. Data masking is either swapping characters with something else in health data or removing them entirely.\n",
    "### 10. K-anonymity groups people in large data sets, making it harder to sift through to find the records of one individual. Each group has k individuals.\n",
    "### 11. The main concerns of conflicts of interest in public health are bias in research, worsening public trust, and damage to research integrity.\n",
    "### 12. The first step of managing conflicts of interests in public health is to be as transparent as possible.\n",
    "### 13. The role of independent oversight in public health research is being an outside perspective that provides an additional layer of checking to avoid bias.\n",
    "### 14. One strategy for mitigating conflicts of interest is public disclosure, which would notify the public about potential influences in research to allow the public to evaluate for themselves.\n",
    "### 15. A potential impact of not managing conflicts of interests is an erosion of public trust in the public health industry."
   ]
  }
 ],
 "metadata": {
  "kernelspec": {
   "display_name": "Python 3",
   "language": "python",
   "name": "python3"
  },
  "language_info": {
   "codemirror_mode": {
    "name": "ipython",
    "version": 3
   },
   "file_extension": ".py",
   "mimetype": "text/x-python",
   "name": "python",
   "nbconvert_exporter": "python",
   "pygments_lexer": "ipython3",
   "version": "3.9.6"
  }
 },
 "nbformat": 4,
 "nbformat_minor": 2
}

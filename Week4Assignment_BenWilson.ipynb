{
 "cells": [
  {
   "cell_type": "markdown",
   "metadata": {},
   "source": [
    "# Week 4 Assignment - Ben Wilson"
   ]
  },
  {
   "cell_type": "markdown",
   "metadata": {},
   "source": [
    "### 1. The difference between a spreadsheet and a database is that while both can handle values, a spreadsheet is generally used for smaller sample sizes and has a more limited range of functionality than a database.\n",
    "### 2. Some advantages of using a spreadsheet for health data management are that a spreadsheet can perform analysis, manipulate, and create visualizations of data. Some disadvantages include not being able to handle large quantities of data. \n",
    "### 3. Some advantages of using a database for health data management are that databases can handle much larger sample sizes and can reduce redundancy by normalizing the health data inputted into it. A disadvantage is not having access to the tasks that a spreadsheet can perform.\n",
    "### 4. Some examples of tasks that can be performed by spreadsheets include entry, manipulation, analysis, visualization, and the ability to tidy up the data.\n",
    "### 5. Some examples of the tasks a database can perform include normalization, creation of tables, and providing a foundation for future analysis. Databases also have more integrity than a spreadsheet.\n",
    "### 6. Both spreadsheets and databases allow for data entry and the creation of tables, which can help determine the relationship between different tables.\n",
    "### 7. Though spreadsheets can perform analysis on small datasets, neither spreadsheets or databases can do complex analysis of large datasets.\n",
    "### 8. A spreadsheet can visualize and analyze the data in real time, which a database cannot do. \n",
    "### 9. A database can handle magnitudes of larger sample sizes than a spreadsheet can, which allows for more practical uses for purposes like hospital records. \n",
    "### 10. Both a spreadsheet and a database allow for a user to enter data. "
   ]
  }
 ],
 "metadata": {
  "kernelspec": {
   "display_name": "Python 3",
   "language": "python",
   "name": "python3"
  },
  "language_info": {
   "codemirror_mode": {
    "name": "ipython",
    "version": 3
   },
   "file_extension": ".py",
   "mimetype": "text/x-python",
   "name": "python",
   "nbconvert_exporter": "python",
   "pygments_lexer": "ipython3",
   "version": "3.9.6"
  }
 },
 "nbformat": 4,
 "nbformat_minor": 2
}
